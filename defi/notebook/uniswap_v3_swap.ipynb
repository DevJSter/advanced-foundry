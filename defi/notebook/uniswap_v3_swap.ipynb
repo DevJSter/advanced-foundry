{
 "cells": [
  {
   "cell_type": "code",
   "execution_count": 53,
   "id": "d6c467ec-7b63-4aff-8311-39f73f8fe003",
   "metadata": {},
   "outputs": [
    {
     "name": "stdout",
     "output_type": "stream",
     "text": [
      "p_a 0.9900503287412106 p_b 1.0100496620928754\n",
      "dx 1.0024539246101138 dy 1.0024539246101138\n",
      "v2: dx -> dy 1 0.9950248756218906\n",
      "v2: p 0.9900745031063588\n"
     ]
    }
   ],
   "source": [
    "import math\n",
    "\n",
    "L = 200\n",
    "x = L\n",
    "y = L\n",
    "\n",
    "p = 1\n",
    "p_a = 1.0001 ** -100\n",
    "p_b = 1.0001 ** 100\n",
    "\n",
    "print(\"p_a\", p_a, \"p_b\",p_b)\n",
    "\n",
    "sqrt_p = math.sqrt(p)\n",
    "sqrt_p_a = math.sqrt(p_a)\n",
    "sqrt_p_b = math.sqrt(p_b)\n",
    "\n",
    "dx = L * (1/sqrt_p_a - 1/sqrt_p)\n",
    "dy = L * (sqrt_p_b - sqrt_p)\n",
    "\n",
    "print(\"dx\", dx, \"dy\", dy)\n",
    "\n",
    "# uni v2 (fee = 0)\n",
    "f = 0.0\n",
    "dx = 1\n",
    "dy = dx * (1 - f) * y / (x + dx * (1 - f))\n",
    "\n",
    "print(\"v2: dx -> dy\", dx, dy)\n",
    "print(\"v2: p\", (y - dy) / (x + dx))"
   ]
  }
 ],
 "metadata": {
  "kernelspec": {
   "display_name": "Python 3 (ipykernel)",
   "language": "python",
   "name": "python3"
  },
  "language_info": {
   "codemirror_mode": {
    "name": "ipython",
    "version": 3
   },
   "file_extension": ".py",
   "mimetype": "text/x-python",
   "name": "python",
   "nbconvert_exporter": "python",
   "pygments_lexer": "ipython3",
   "version": "3.10.11"
  }
 },
 "nbformat": 4,
 "nbformat_minor": 5
}
