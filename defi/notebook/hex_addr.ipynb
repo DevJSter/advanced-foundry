{
 "cells": [
  {
   "cell_type": "code",
   "execution_count": 4,
   "id": "781c83ac-d184-4046-92c3-5536db6533f0",
   "metadata": {},
   "outputs": [
    {
     "name": "stdout",
     "output_type": "stream",
     "text": [
      "412311598482915581890913355723629879470649597847\n",
      "0x4838b106fce9647bdf1e7877bf73ce8b0bad5f97\n",
      "True\n"
     ]
    }
   ],
   "source": [
    "# address <-> 20 bytes hexadecimal <-> 160 bit number\n",
    "# lower case address (no address checksum)\n",
    "addr = \"0x4838b106fce9647bdf1e7877bf73ce8b0bad5f97\"\n",
    "\n",
    "i = int(addr, 16)\n",
    "h = hex(i)\n",
    "\n",
    "print(i)\n",
    "print(h)\n",
    "print(h == addr)"
   ]
  },
  {
   "cell_type": "code",
   "execution_count": 8,
   "id": "a28b1b1e-c4f2-4043-943f-e05d17213335",
   "metadata": {},
   "outputs": [
    {
     "name": "stdout",
     "output_type": "stream",
     "text": [
      "412311598482915581890913355723629879470649597847\n",
      "1200404571941723556296725344856231068018784102483\n",
      "True\n"
     ]
    }
   ],
   "source": [
    "# Compare addresses\n",
    "addr_1 = \"0x4838b106fce9647bdf1e7877bf73ce8b0bad5f97\"\n",
    "addr_2 = \"0xd24400ae8bfebb18ca49be86258a3c749cf46853\"\n",
    "\n",
    "i1 = int(addr_1, 16)\n",
    "i2 = int(addr_2, 16)\n",
    "\n",
    "print(i1)\n",
    "print(i2)\n",
    "print(i1 < i2)"
   ]
  }
 ],
 "metadata": {
  "kernelspec": {
   "display_name": "Python 3 (ipykernel)",
   "language": "python",
   "name": "python3"
  },
  "language_info": {
   "codemirror_mode": {
    "name": "ipython",
    "version": 3
   },
   "file_extension": ".py",
   "mimetype": "text/x-python",
   "name": "python",
   "nbconvert_exporter": "python",
   "pygments_lexer": "ipython3",
   "version": "3.10.7"
  }
 },
 "nbformat": 4,
 "nbformat_minor": 5
}
