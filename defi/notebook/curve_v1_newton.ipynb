{
 "cells": [
  {
   "cell_type": "code",
   "execution_count": 24,
   "id": "27ce901d-ab78-4ecb-8731-3f9f21405549",
   "metadata": {},
   "outputs": [],
   "source": [
    "# Newton's method\n",
    "def f_solve(f, df, x0, n, delta):\n",
    "    for i in range(n):\n",
    "        print(i, x0)\n",
    "        x1 = x0 - f(x0) / df(x0)\n",
    "        if abs(x1 - x0) <= delta:\n",
    "            return x1\n",
    "        x0 = x1\n",
    "\n",
    "    assert False, \"Cannot find solution\" "
   ]
  },
  {
   "cell_type": "code",
   "execution_count": 29,
   "id": "d18942bc-0aab-4339-a1be-57bd2c00603f",
   "metadata": {},
   "outputs": [
    {
     "name": "stdout",
     "output_type": "stream",
     "text": [
      "0 1\n",
      "1 1.5\n",
      "2 1.4166666666666667\n",
      "3 1.4142156862745099\n",
      "x 1.4142135623746899\n",
      "f(x) 1.4142135623746899\n"
     ]
    }
   ],
   "source": [
    "# Simple example\n",
    "def f(x):\n",
    "    return x**2 - 2\n",
    "\n",
    "def df(x):\n",
    "    return 2*x\n",
    "\n",
    "x0 = 1\n",
    "n = 1000\n",
    "delta = 0.001\n",
    "\n",
    "x = f_solve(f, df, x0, n, delta)\n",
    "print(\"x\", x)\n",
    "print(\"f(x)\", x)"
   ]
  },
  {
   "cell_type": "code",
   "execution_count": 60,
   "id": "6b4ec767-90c3-43df-a0f3-1dceecf9d5e5",
   "metadata": {},
   "outputs": [
    {
     "name": "stdout",
     "output_type": "stream",
     "text": [
      "0 200\n",
      "1 209.45945945945945\n",
      "2 209.8951422053809\n",
      "3 209.89598435931026\n",
      "d 209.89598436244353\n",
      "f_D(d) -5.820766091346741e-11\n",
      "0 90\n",
      "1 81.11111111111111\n",
      "2 80.20523708421798\n",
      "3 80.19562927252291\n",
      "y 80.19562819149829\n",
      "f_y(y) -1.1641532182693481e-10\n"
     ]
    }
   ],
   "source": [
    "### Curve v1 examples ###\n",
    "# StableSwap invariant\n",
    "def f(x, y, A, D):\n",
    "    k = A*x*y/(D/2)**2\n",
    "    return x*y + k*(x+y)*D - (D/2)**2 - k*D**2\n",
    "\n",
    "n = 100\n",
    "delta = 0.0001\n",
    "\n",
    "x = 120\n",
    "y = 90\n",
    "A = 10\n",
    "D = 200\n",
    "\n",
    "### get_D ###\n",
    "def f_D(d):\n",
    "    return f(x, y, A, d)\n",
    "\n",
    "def df_dD(d):\n",
    "    return -4*A*x*y*(x + y)/d**2 - d/2\n",
    "\n",
    "# Calculate D, given x, y and A\n",
    "d = f_solve(f_D, df_dD, D, n, delta)\n",
    "print(\"d\", d)\n",
    "print(\"f_D(d)\", f_D(d))\n",
    "\n",
    "### get_y ###\n",
    "def f_y(y):\n",
    "    return f(x, y, A, D)\n",
    "\n",
    "def df_dy(y):\n",
    "    return -4*A*x + 4*A*x*y/D + 4*A*x*(x + y)/D + x\n",
    "\n",
    "# Calculate y, given x, D and A\n",
    "y = f_solve(f_y, df_dy, y, n, delta)\n",
    "print(\"y\", y)\n",
    "print(\"f_y(y)\", f_y(y))"
   ]
  }
 ],
 "metadata": {
  "kernelspec": {
   "display_name": "Python 3 (ipykernel)",
   "language": "python",
   "name": "python3"
  },
  "language_info": {
   "codemirror_mode": {
    "name": "ipython",
    "version": 3
   },
   "file_extension": ".py",
   "mimetype": "text/x-python",
   "name": "python",
   "nbconvert_exporter": "python",
   "pygments_lexer": "ipython3",
   "version": "3.10.11"
  }
 },
 "nbformat": 4,
 "nbformat_minor": 5
}
