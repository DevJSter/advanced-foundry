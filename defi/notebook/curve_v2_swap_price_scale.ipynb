{
 "cells": [
  {
   "cell_type": "code",
   "execution_count": null,
   "id": "2f0e6268-3cf3-4f8c-bf01-9e52383ea003",
   "metadata": {},
   "outputs": [],
   "source": [
    "!pip install scipy"
   ]
  },
  {
   "cell_type": "code",
   "execution_count": 2,
   "id": "ba898ead-aacc-45e8-b99c-60d44ea2e6bd",
   "metadata": {},
   "outputs": [
    {
     "name": "stdout",
     "output_type": "stream",
     "text": [
      "--- dx with price scale = [1, 1] ---\n",
      "D 55971.23259730738\n",
      "D/2 27985.61629865369\n",
      "x1 5945653.999865564\n",
      "dx 54346.000134436414\n",
      "--- dx with price scale = [1, 6e4] ---\n",
      "D 12000000.000000028\n",
      "D/2 6000000.000000014\n",
      "x1 5940031.185196907\n",
      "dx 59968.81480309274\n"
     ]
    }
   ],
   "source": [
    "# Simulate swapping with and without price scale\n",
    "# Example setup\n",
    "# swap WBTC to USDC\n",
    "# x = USDC\n",
    "# y = WBTC\n",
    "# market price of WBTC = 60,000\n",
    "\n",
    "from scipy.optimize import fsolve\n",
    "\n",
    "# Functions to solve for x, y and D\n",
    "def f_curve_v2(x, y, A, D, g, p):\n",
    "    # Transformed balances\n",
    "    x = x * p[0]\n",
    "    y = y * p[1]\n",
    "    # Curve v2\n",
    "    k0 = x*y/(D/2)**2\n",
    "    k = A*k0*(g/(g+1-k0))**2\n",
    "    return x*y + k*D*(x+y) - (D/2)**2 - k*D**2\n",
    "\n",
    "def f_y(y, x, A, D, g, p):\n",
    "    return f_curve_v2(x, y, A, D, g, p)\n",
    "\n",
    "def f_D(D, x, y, A, g, p):\n",
    "    return f_curve_v2(x, y, A, D, g, p)\n",
    "\n",
    "# Compare dx with price scale = [1, 1] and [1, 6e4]\n",
    "A = 10\n",
    "g = 0.002\n",
    "x0 = 6e6\n",
    "y0 = 100\n",
    "y1 = y0 + 1\n",
    "\n",
    "## Calc dx with actual balances\n",
    "print(\"--- dx with price scale = [1, 1] ---\")\n",
    "\n",
    "p = [1, 1]\n",
    "D = fsolve(f_D, x0/2, args=(x0, y0, A, g, p))[0]\n",
    "\n",
    "print(\"D\", D)\n",
    "print(\"D/2\", D / 2)\n",
    "\n",
    "x1 = fsolve(f_curve_v2, D/2, args=(y1, A, D, g, p))[0]\n",
    "print(\"x1\", x1)\n",
    "print(\"dx\", x0 - x1)\n",
    "\n",
    "## Calc dx with transformed balances\n",
    "print(\"--- dx with price scale = [1, 6e4] ---\")\n",
    "\n",
    "p = [1, 6e4]\n",
    "D = fsolve(f_D, x0/2, args=(x0, y0, A, g, p))[0]\n",
    "\n",
    "print(\"D\", D)\n",
    "print(\"D/2\", D / 2)\n",
    "\n",
    "x1 = fsolve(f_curve_v2, D/2, args=(y1, A, D, g, p))[0]\n",
    "print(\"x1\", x1)\n",
    "print(\"dx\", x0 - x1)"
   ]
  },
  {
   "cell_type": "code",
   "execution_count": 3,
   "id": "0baf7233-2d4d-46ea-b673-2a9d33267e9b",
   "metadata": {},
   "outputs": [
    {
     "name": "stdout",
     "output_type": "stream",
     "text": [
      "--- dy with price scale = [1, 6e4] ---\n",
      "D 12000000.000000028\n",
      "D/2 6000000.000000014\n",
      "D / 2 - x1 * p[0] -679999.999999986\n",
      "D / 2 - y1 * p[1] 645452.725933726\n",
      "x1 6680000.0\n",
      "y1 89.24245456777146\n",
      "x1 * p[0] 6680000.0\n",
      "y1 * p[1] 5354547.274066288\n",
      "dy 10.75754543222854\n",
      "arb profit 73028.18025599781\n",
      "--- price scale = [1, 7e4] ---\n",
      "D 12926234.118568232\n",
      "D/2 6463117.059284116\n",
      "D / 2 - x1 * p[0] -216882.94071588386\n",
      "D / 2 - y1 * p[1] 216145.23954011407\n",
      "x1 * p[0] 6680000.0\n",
      "y1 * p[1] 6246971.819744002\n"
     ]
    }
   ],
   "source": [
    "# Example of repegging the price scales\n",
    "# Calculate dy with transformed balances\n",
    "print(\"--- dy with price scale = [1, 6e4] ---\")\n",
    "\n",
    "p = [1, 6e4]\n",
    "D = fsolve(f_D, x0/2, args=(x0, y0, A, g, p))[0]\n",
    "\n",
    "print(\"D\", D)\n",
    "print(\"D/2\", D / 2)\n",
    "\n",
    "dx = 680000\n",
    "x1 = x0 + dx\n",
    "y1 = fsolve(f_y, D/2, args=(x1, A, D, g, p))[0]\n",
    "print(\"D / 2 - x1 * p[0]\", D / 2 - x1 * p[0])\n",
    "print(\"D / 2 - y1 * p[1]\", D / 2 -  y1 * p[1])\n",
    "print(\"x1\", x1)\n",
    "print(\"y1\", y1)\n",
    "print(\"x1 * p[0]\", x1 * p[0])\n",
    "print(\"y1 * p[1]\", y1 * p[1])\n",
    "print(\"dy\", y0 - y1)\n",
    "print(\"arb profit\", (y0 - y1) * 70000 - dx)\n",
    "\n",
    "# Calculate dy with transformed balances\n",
    "print(\"--- price scale = [1, 7e4] ---\")\n",
    "p = [1, 7e4]\n",
    "D = fsolve(f_D, x1/2, args=(x1, y1, A, g, p))[0]\n",
    "\n",
    "print(\"D\", D)\n",
    "print(\"D/2\", D / 2)\n",
    "print(\"D / 2 - x1 * p[0]\", D / 2 - x1 * p[0])\n",
    "print(\"D / 2 - y1 * p[1]\", D / 2 -  y1 * p[1])\n",
    "print(\"x1 * p[0]\", x1 * p[0])\n",
    "print(\"y1 * p[1]\", y1 * p[1])"
   ]
  }
 ],
 "metadata": {
  "kernelspec": {
   "display_name": "Python 3 (ipykernel)",
   "language": "python",
   "name": "python3"
  },
  "language_info": {
   "codemirror_mode": {
    "name": "ipython",
    "version": 3
   },
   "file_extension": ".py",
   "mimetype": "text/x-python",
   "name": "python",
   "nbconvert_exporter": "python",
   "pygments_lexer": "ipython3",
   "version": "3.10.11"
  }
 },
 "nbformat": 4,
 "nbformat_minor": 5
}
