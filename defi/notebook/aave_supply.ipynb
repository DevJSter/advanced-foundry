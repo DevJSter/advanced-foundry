{
 "cells": [
  {
   "cell_type": "code",
   "execution_count": 21,
   "id": "ee66a2a9-e557-42bd-a505-ee744174ed4f",
   "metadata": {},
   "outputs": [
    {
     "name": "stdout",
     "output_type": "stream",
     "text": [
      "AToken mint amount 840873542341.0\n",
      "----\n",
      "Underlying balance 873266297524.0\n",
      "AToken burn amount 840873542340.0\n",
      "----\n",
      "Underlying balance 960592927276.0\n",
      "AToken burn amount 840873542340.0\n"
     ]
    }
   ],
   "source": [
    "UNDERLYING_DECIMALS = 1e6\n",
    "RAY = 1e27\n",
    "\n",
    "# Mint\n",
    "underlying_amount = 873266297525\n",
    "index = 1038522742781349757904924613\n",
    "mint_amount_scaled = underlying_amount * RAY // index\n",
    "\n",
    "print(\"AToken mint amount\", mint_amount_scaled)\n",
    "\n",
    "# Burn all - when index has not changed\n",
    "scaled_balance = mint_amount_scaled\n",
    "user_balance = scaled_balance * index // RAY\n",
    "burn_amount_scaled = user_balance * RAY // index\n",
    "\n",
    "print(\"----\")\n",
    "print(\"Underlying balance\", user_balance)\n",
    "print(\"AToken burn amount\", burn_amount_scaled)\n",
    "\n",
    "# Burn all - after index increased\n",
    "index = 1.1 * index\n",
    "scaled_balance = mint_amount_scaled\n",
    "user_balance = scaled_balance * index // RAY\n",
    "burn_amount_scaled = user_balance * RAY // index\n",
    "\n",
    "print(\"----\")\n",
    "print(\"Underlying balance\", user_balance)\n",
    "print(\"AToken burn amount\", burn_amount_scaled)"
   ]
  }
 ],
 "metadata": {
  "kernelspec": {
   "display_name": "Python 3 (ipykernel)",
   "language": "python",
   "name": "python3"
  },
  "language_info": {
   "codemirror_mode": {
    "name": "ipython",
    "version": 3
   },
   "file_extension": ".py",
   "mimetype": "text/x-python",
   "name": "python",
   "nbconvert_exporter": "python",
   "pygments_lexer": "ipython3",
   "version": "3.10.7"
  }
 },
 "nbformat": 4,
 "nbformat_minor": 5
}
