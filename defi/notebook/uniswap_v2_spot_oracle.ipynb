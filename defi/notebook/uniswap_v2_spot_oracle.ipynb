{
 "cells": [
  {
   "cell_type": "code",
   "execution_count": 8,
   "id": "985ecd47-4ec3-4a6d-a02d-3b3451bbf78f",
   "metadata": {},
   "outputs": [
    {
     "name": "stdout",
     "output_type": "stream",
     "text": [
      "x 1000\n",
      "y 2000000\n",
      "spot 2000.0\n",
      "-------------\n",
      "swap DAI -> ETH\n",
      "dx -832.9156223893066\n",
      "dy 10000000.0\n",
      "x 167.08437761069342\n",
      "y 12000000.0\n",
      "spot1 71819.99999999999\n",
      "-------------\n",
      "swap ETH -> DAI\n",
      "dx 832.9156223893066\n",
      "dy -9989964.89976206\n",
      "x 1000.0\n",
      "y 2010035.1002379395\n",
      "spot2 2010.0351002379396\n",
      "-------------\n",
      "swap fee 10035.100237939507\n",
      "borrowed 5745599.999999999\n",
      "profit 5535564.89976206\n"
     ]
    }
   ],
   "source": [
    "def calc_swap(reserve_in, reserve_out, amount_in, f):\n",
    "    return amount_in * (1 - f) * reserve_out / (reserve_in + amount_in * (1 - f))\n",
    "\n",
    "# x = ETH, y = DAI\n",
    "x = 1000\n",
    "y = 2000000\n",
    "f = 0.003\n",
    "\n",
    "spot0 = y / x\n",
    "print(\"x\", x)\n",
    "print(\"y\", y)\n",
    "print(\"spot\", spot0)\n",
    "print(\"-------------\")\n",
    "\n",
    "# Swap DAI (y) for ETH (x)\n",
    "dy0 = 10 * 1e6\n",
    "dy = dy0\n",
    "dx = calc_swap(y, x, dy, f)\n",
    "x -= dx\n",
    "y += dy\n",
    "spot1 = y / x\n",
    "\n",
    "print(\"swap DAI -> ETH\")\n",
    "print(\"dx\", -dx)\n",
    "print(\"dy\", dy)\n",
    "print(\"x\", x)\n",
    "print(\"y\", y)\n",
    "print(\"spot1\", spot1)\n",
    "print(\"-------------\")\n",
    "\n",
    "# Swap ETH (x) for DAI (y)\n",
    "dy = calc_swap(x, y, dx, f)\n",
    "dy1 = dy\n",
    "x += dx\n",
    "y -= dy\n",
    "spot2 = y / x\n",
    "\n",
    "print(\"swap ETH -> DAI\")\n",
    "print(\"dx\", dx)\n",
    "print(\"dy\", -dy)\n",
    "print(\"x\", x)\n",
    "print(\"y\", y)\n",
    "print(\"spot2\", spot2)\n",
    "print(\"-------------\")\n",
    "\n",
    "fee = dy0 - dy1\n",
    "print(\"swap fee\", fee)\n",
    "# Profit for borrowing DAI at spot1\n",
    "eth_col = 100\n",
    "borrowed = 0.8 * spot1 * eth_col\n",
    "print(\"borrowed\", borrowed)\n",
    "print(\"profit\", borrowed - fee - spot0 * eth_col)"
   ]
  }
 ],
 "metadata": {
  "kernelspec": {
   "display_name": "Python 3 (ipykernel)",
   "language": "python",
   "name": "python3"
  },
  "language_info": {
   "codemirror_mode": {
    "name": "ipython",
    "version": 3
   },
   "file_extension": ".py",
   "mimetype": "text/x-python",
   "name": "python",
   "nbconvert_exporter": "python",
   "pygments_lexer": "ipython3",
   "version": "3.10.7"
  }
 },
 "nbformat": 4,
 "nbformat_minor": 5
}
