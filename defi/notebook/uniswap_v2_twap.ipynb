{
 "cells": [
  {
   "cell_type": "code",
   "execution_count": 10,
   "id": "20589460-acc4-4600-a548-2846bb76cfcd",
   "metadata": {},
   "outputs": [
    {
     "name": "stdout",
     "output_type": "stream",
     "text": [
      "[0, 2000, 3100, 7000, 11800]\n",
      "1180.0\n",
      "1242.857142857143\n"
     ]
    }
   ],
   "source": [
    "timestamps = [1, 3, 4, 7, 11]\n",
    "prices = [1000, 1100, 1300, 1200]\n",
    "\n",
    "cumulative_price = 0\n",
    "cumulative_prices = [0]\n",
    "for i in range(len(timestamps) - 1):\n",
    "    t0 = timestamps[i]\n",
    "    t1 = timestamps[i + 1]\n",
    "    dt = t1 - t0\n",
    "    p = prices[i]\n",
    "    cumulative_price += dt * p\n",
    "    cumulative_prices.append(cumulative_price)\n",
    "\n",
    "print(cumulative_prices)\n",
    "\n",
    "dt = timestamps[-1] - timestamps[0]\n",
    "twap = (cumulative_prices[-1] - cumulative_prices[0]) / dt\n",
    "print(twap)\n",
    "\n",
    "dt = timestamps[-1] - timestamps[2]\n",
    "twap = (cumulative_prices[-1] - cumulative_prices[2]) / dt\n",
    "print(twap)"
   ]
  }
 ],
 "metadata": {
  "kernelspec": {
   "display_name": "Python 3 (ipykernel)",
   "language": "python",
   "name": "python3"
  },
  "language_info": {
   "codemirror_mode": {
    "name": "ipython",
    "version": 3
   },
   "file_extension": ".py",
   "mimetype": "text/x-python",
   "name": "python",
   "nbconvert_exporter": "python",
   "pygments_lexer": "ipython3",
   "version": "3.10.7"
  }
 },
 "nbformat": 4,
 "nbformat_minor": 5
}
