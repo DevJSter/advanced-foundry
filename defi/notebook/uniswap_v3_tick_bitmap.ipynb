{
 "cells": [
  {
   "cell_type": "code",
   "execution_count": null,
   "id": "81da7b22-b984-4a4f-92a2-2b5213c2f7ca",
   "metadata": {},
   "outputs": [],
   "source": [
    "!pip install bitstring"
   ]
  },
  {
   "cell_type": "code",
   "execution_count": 9,
   "id": "9fb99bc6-f404-44c3-872e-8925382b9eb1",
   "metadata": {},
   "outputs": [
    {
     "name": "stdout",
     "output_type": "stream",
     "text": [
      "bits\n",
      "111111001111000000000111\n",
      "word | pos\n",
      "1111110011110000 00000111\n",
      "-784 7\n"
     ]
    }
   ],
   "source": [
    "from bitstring import Bits\n",
    "\n",
    "# int24\n",
    "tick = -200697\n",
    "tick_spacing = 1\n",
    "\n",
    "# int16\n",
    "word_pos = int(tick) >> 8\n",
    "# uint8\n",
    "bit_pos = int(tick) % 256\n",
    "\n",
    "bits = Bits(int=tick, length=24).bin\n",
    "word_bits = Bits(int=word_pos,length=16).bin\n",
    "pos_bits = Bits(uint=bit_pos, length=8).bin\n",
    "\n",
    "print(\"bits\")\n",
    "print(bits)\n",
    "print(\"word | pos\")\n",
    "print(word_bits, pos_bits)\n",
    "print(word_pos, bit_pos)"
   ]
  },
  {
   "cell_type": "code",
   "execution_count": 10,
   "id": "bdea23ab-4536-430f-8a8d-56d6dd4d17b8",
   "metadata": {},
   "outputs": [
    {
     "name": "stdout",
     "output_type": "stream",
     "text": [
      "val\n",
      "0110000000000000000000000000000000000000000000000000000000000000000000000000000000000000000000000000000000000000000000000000000000000000000000000000000000000000000000000000000000000000000000000000000000000000000000000000000000000000000000000000000000000011\n"
     ]
    }
   ],
   "source": [
    "### Find next tick ###\n",
    "def msb(bits):\n",
    "    for i in range(len(bits)):\n",
    "        if bits[i] == \"1\":\n",
    "            return 255 - i\n",
    "\n",
    "def lsb(bits):\n",
    "    for i in range(len(bits)):\n",
    "        if bits[255 - i] == \"1\":\n",
    "            return i\n",
    "\n",
    "# example tick bitmap value\n",
    "val = (1 << 254) + (1 << 253) + (1 << 1) + (1 << 0)\n",
    "print(\"val\")\n",
    "print(Bits(uint=val, length=256).bin)"
   ]
  },
  {
   "cell_type": "code",
   "execution_count": 11,
   "id": "23db43f8-dcaf-4d6c-8976-43b938b6fe80",
   "metadata": {},
   "outputs": [
    {
     "name": "stdout",
     "output_type": "stream",
     "text": [
      "mask\n",
      "0000000000000000000000000000000000000000000000000000000000000000000000000000000000000000000000000000000000000000000000000000000000000000000000000000000000000000000000000000000000000000000000000000000000000000000000000000000000000000000000000000000011111111\n",
      "masked\n",
      "0000000000000000000000000000000000000000000000000000000000000000000000000000000000000000000000000000000000000000000000000000000000000000000000000000000000000000000000000000000000000000000000000000000000000000000000000000000000000000000000000000000000000011\n",
      "next bit pos 1\n",
      "next tick -200703\n"
     ]
    }
   ],
   "source": [
    "# Find next tick < current tick\n",
    "# all 1s at or to the right of bit_pos\n",
    "mask = (1 << bit_pos) - 1 + (1 << bit_pos)\n",
    "print(\"mask\")\n",
    "print(Bits(uint=mask, length=256).bin)\n",
    "masked = val & mask\n",
    "masked_bits = Bits(uint=masked, length=256).bin\n",
    "print(\"masked\")\n",
    "print(masked_bits)\n",
    "next_bit_pos = msb(masked_bits)\n",
    "print(\"next bit pos\", next_bit_pos)\n",
    "next_tick = tick - bit_pos + next_bit_pos\n",
    "print(\"next tick\", next_tick)"
   ]
  },
  {
   "cell_type": "code",
   "execution_count": 13,
   "id": "b1dc8beb-0c3c-4763-8515-e7d4e70cf250",
   "metadata": {},
   "outputs": [
    {
     "name": "stdout",
     "output_type": "stream",
     "text": [
      "mask\n",
      "1111111111111111111111111111111111111111111111111111111111111111111111111111111111111111111111111111111111111111111111111111111111111111111111111111111111111111111111111111111111111111111111111111111111111111111111111111111111111111111111111111111110000000\n",
      "masked\n",
      "0110000000000000000000000000000000000000000000000000000000000000000000000000000000000000000000000000000000000000000000000000000000000000000000000000000000000000000000000000000000000000000000000000000000000000000000000000000000000000000000000000000000000000\n",
      "next bit pos 253\n",
      "next tick -200450\n"
     ]
    }
   ],
   "source": [
    "# Find next tick > current tick\n",
    "# all the 1s at or to the left of the bitPos\n",
    "mask = ((1<< 256) - 1) - ((1 << bit_pos) - 1)\n",
    "print(\"mask\")\n",
    "print(Bits(uint=mask, length=256).bin)\n",
    "masked = val & mask\n",
    "masked_bits = Bits(uint=masked, length=256).bin\n",
    "print(\"masked\")\n",
    "print(masked_bits)\n",
    "next_bit_pos = lsb(masked_bits)\n",
    "print(\"next bit pos\", next_bit_pos)\n",
    "next_tick = tick - bit_pos + next_bit_pos + 1\n",
    "print(\"next tick\", next_tick)"
   ]
  }
 ],
 "metadata": {
  "kernelspec": {
   "display_name": "Python 3 (ipykernel)",
   "language": "python",
   "name": "python3"
  },
  "language_info": {
   "codemirror_mode": {
    "name": "ipython",
    "version": 3
   },
   "file_extension": ".py",
   "mimetype": "text/x-python",
   "name": "python",
   "nbconvert_exporter": "python",
   "pygments_lexer": "ipython3",
   "version": "3.12.3"
  }
 },
 "nbformat": 4,
 "nbformat_minor": 5
}
