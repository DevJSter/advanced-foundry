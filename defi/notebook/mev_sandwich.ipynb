{
 "cells": [
  {
   "cell_type": "code",
   "execution_count": 13,
   "id": "57430539-f673-475a-a2d1-c28f03ef45a9",
   "metadata": {},
   "outputs": [
    {
     "name": "stdout",
     "output_type": "stream",
     "text": [
      "--- Case 1 - no sandwich ---\n",
      "Alice swaps 1000 DAI for 0.9090909090909091 ETH\n",
      "--- Case 2 - sandwich ---\n",
      "Sam swaps 1000 DAI for 0.9090909090909091 ETH\n",
      "Alice swaps 1000 DAI for 0.7575757575757577 ETH\n",
      "Sam swaps 0.9090909090909091 ETH for 1180.327868852459 DAI\n",
      "Sam profit 180.327868852459 DAI\n"
     ]
    }
   ],
   "source": [
    "# x = ETH\n",
    "# y = DAI\n",
    "x = 10\n",
    "y = 10000\n",
    "k = x*y\n",
    "\n",
    "def calc_delta_out(bal_in, bal_out, delta_in):\n",
    "    return bal_out * delta_in / (bal_in + delta_in)\n",
    "\n",
    "print(\"--- Case 1 - no sandwich ---\")\n",
    "dy = 1000\n",
    "dx = calc_delta_out(y, x, dy)\n",
    "print(f\"Alice swaps 1000 DAI for {dx} ETH\")\n",
    "\n",
    "print(\"--- Case 2 - sandwich ---\")\n",
    "dy0 = 1000\n",
    "dx0 = calc_delta_out(y, x, dy0)\n",
    "x -= dx0\n",
    "y += dy\n",
    "print(f\"Sam swaps 1000 DAI for {dx0} ETH\")\n",
    "\n",
    "dy = 1000\n",
    "dx1 = calc_delta_out(y, x, dy)\n",
    "x -= dx1\n",
    "y += dy\n",
    "print(f\"Alice swaps 1000 DAI for {dx1} ETH\")\n",
    "\n",
    "dy1 = calc_delta_out(x, y, dx0)\n",
    "x += dx0\n",
    "y -= dy\n",
    "print(f\"Sam swaps {dx0} ETH for {dy1} DAI\")\n",
    "print(f'Sam profit {dy1 - dy0} DAI')"
   ]
  }
 ],
 "metadata": {
  "kernelspec": {
   "display_name": "Python 3 (ipykernel)",
   "language": "python",
   "name": "python3"
  },
  "language_info": {
   "codemirror_mode": {
    "name": "ipython",
    "version": 3
   },
   "file_extension": ".py",
   "mimetype": "text/x-python",
   "name": "python",
   "nbconvert_exporter": "python",
   "pygments_lexer": "ipython3",
   "version": "3.10.7"
  }
 },
 "nbformat": 4,
 "nbformat_minor": 5
}
