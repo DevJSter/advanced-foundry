{
 "cells": [
  {
   "cell_type": "code",
   "execution_count": 11,
   "id": "90ebba97-943c-4a12-bc33-0a11e931428c",
   "metadata": {},
   "outputs": [
    {
     "name": "stdout",
     "output_type": "stream",
     "text": [
      "3.5319103213169284e-09\n",
      "3531.9103213169287\n"
     ]
    }
   ],
   "source": [
    "# WETH / USDT pool 0.3%\n",
    "# 0x4e68Ccd3E89f51C3074ca5072bbAC773960dFa36\n",
    "# Calculate price from tick\n",
    "\n",
    "tick = -194624\n",
    "p = 1.0001 ** tick\n",
    "\n",
    "# p = y / x = price of token x in terms of token y\n",
    "#                           WETH               USDT\n",
    "# 1 WETH = 1e18\n",
    "# 1 USDT = 1e6\n",
    "# y / x = USDT / WETH = 1e6 / 1e18\n",
    "print(p)\n",
    "print(p / 1e6 * 1e18)"
   ]
  },
  {
   "cell_type": "code",
   "execution_count": 15,
   "id": "c7cca3bb-cb51-41dc-89c5-09f476177f79",
   "metadata": {},
   "outputs": [
    {
     "name": "stdout",
     "output_type": "stream",
     "text": [
      "282708536.8770063\n",
      "3.537211896912242e-09\n",
      "3537.211896912242\n"
     ]
    }
   ],
   "source": [
    "# USDC / WETH 0.05% pool\n",
    "# 0x88e6A0c2dDD26FEEb64F039a2c41296FcB3f5640\n",
    "# Calculate price from tick\n",
    "\n",
    "tick = 194609\n",
    "p = 1.0001 ** tick\n",
    "\n",
    "# p = y / x = price of token x in terms of token y\n",
    "#                           USDC               WETH\n",
    "# 1 / p = x / y = price of token y in terms of token x\n",
    "#                               WETH                USDC\n",
    "print(p)\n",
    "print(1 / p)\n",
    "\n",
    "# 1 WETH = 1e18\n",
    "# 1 USDC = 1e6\n",
    "# x / y = USDC / WETH = 1e6 / 1e18\n",
    "print(1 / p / 1e6 * 1e18)"
   ]
  },
  {
   "cell_type": "code",
   "execution_count": 5,
   "id": "3345ffba-4f3a-4704-90e1-a33a455623f9",
   "metadata": {},
   "outputs": [
    {
     "name": "stdout",
     "output_type": "stream",
     "text": [
      "3.370400441176277e-09\n",
      "3370.400441176277\n"
     ]
    }
   ],
   "source": [
    "# WETH / USDT pool 0.3%\n",
    "# 0x4e68Ccd3E89f51C3074ca5072bbAC773960dFa36\n",
    "# Calculate price from sqrtPriceX96\n",
    "Q96 = 2 ** 96\n",
    "sqrt_p_x96 = 4599602858753747432741081\n",
    "p = (sqrt_p_x96 / Q96) ** 2\n",
    "\n",
    "print(p)\n",
    "\n",
    "# p = y / x = USDT / WETH = 1e6 / 1e18\n",
    "print(p / 1e6 * 1e18)"
   ]
  },
  {
   "cell_type": "code",
   "execution_count": 1,
   "id": "0460af24-58f7-40e6-ae3e-212813484b0b",
   "metadata": {},
   "outputs": [
    {
     "name": "stdout",
     "output_type": "stream",
     "text": [
      "297217772.62681186\n",
      "3.3645363504409445e-09\n",
      "3364.5363504409443\n"
     ]
    }
   ],
   "source": [
    "# USDC / WETH 0.05% pool\n",
    "# 0x88e6A0c2dDD26FEEb64F039a2c41296FcB3f5640\n",
    "# Calculate price from sqrtPriceX96\n",
    "Q96 = 2 ** 96\n",
    "sqrt_p_x96 = 1365893918407840676648734253985624\n",
    "p = (sqrt_p_x96 / Q96) ** 2\n",
    "\n",
    "print(p)\n",
    "print(1 / p)\n",
    "# p = y / x = WETH / USDC = 1e18 / 1e6\n",
    "# 1 / p = 1e6 / 1e18\n",
    "print(1 / p / 1e6 * 1e18)"
   ]
  },
  {
   "cell_type": "code",
   "execution_count": 4,
   "id": "a0b06f2f-6978-4c88-a509-6678bd605886",
   "metadata": {},
   "outputs": [
    {
     "name": "stdout",
     "output_type": "stream",
     "text": [
      "195402.15505159998\n"
     ]
    }
   ],
   "source": [
    "import math\n",
    "# USDC / WETH 0.05% pool\n",
    "# 0x88e6A0c2dDD26FEEb64F039a2c41296FcB3f5640\n",
    "# Calculate tick from sqrtPriceX96\n",
    "\n",
    "Q96 = 2 ** 96\n",
    "sqrt_p_x96 = 1386025840740905446350612632896904\n",
    "tick = 195402\n",
    "\n",
    "t = 2 * math.log(sqrt_p_x96 / Q96) / math.log(1.0001)\n",
    "print(t)"
   ]
  }
 ],
 "metadata": {
  "kernelspec": {
   "display_name": "Python 3 (ipykernel)",
   "language": "python",
   "name": "python3"
  },
  "language_info": {
   "codemirror_mode": {
    "name": "ipython",
    "version": 3
   },
   "file_extension": ".py",
   "mimetype": "text/x-python",
   "name": "python",
   "nbconvert_exporter": "python",
   "pygments_lexer": "ipython3",
   "version": "3.10.11"
  }
 },
 "nbformat": 4,
 "nbformat_minor": 5
}
