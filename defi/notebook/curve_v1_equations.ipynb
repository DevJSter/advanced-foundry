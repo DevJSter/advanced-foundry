{
 "cells": [
  {
   "cell_type": "code",
   "execution_count": null,
   "id": "e0645f0a-73af-43b7-8785-bdd0d8a1cc55",
   "metadata": {},
   "outputs": [],
   "source": [
    "!pip install sympy"
   ]
  },
  {
   "cell_type": "code",
   "execution_count": 24,
   "id": "aadad4e4-e753-4705-aa53-3a1bc5099ccf",
   "metadata": {},
   "outputs": [
    {
     "data": {
      "image/png": "[encoded data removed]",
      "text/latex": [
       "$\\displaystyle - 4 A x y + \\frac{4 A x y \\left(x + y\\right)}{D} - \\frac{D^{2}}{4} + x y$"
      ],
      "text/plain": [
       "                              2      \n",
       "           4⋅A⋅x⋅y⋅(x + y)   D       \n",
       "-4⋅A⋅x⋅y + ─────────────── - ── + x⋅y\n",
       "                  D          4       "
      ]
     },
     "metadata": {},
     "output_type": "display_data"
    },
    {
     "name": "stdout",
     "output_type": "stream",
     "text": [
      "df / dD\n",
      "-4*A*x*y*(x + y)/D**2 - D/2\n",
      "df / dy\n",
      "-4*A*x + 4*A*x*y/D + 4*A*x*(x + y)/D + x\n"
     ]
    },
    {
     "data": {
      "image/png": "[encoded data removed]",
      "text/latex": [
       "$\\displaystyle 0$"
      ],
      "text/plain": [
       "0"
      ]
     },
     "metadata": {},
     "output_type": "display_data"
    }
   ],
   "source": [
    "from sympy import symbols, diff, simplify,  init_printing\n",
    "init_printing()\n",
    "\n",
    "# Curve (equations from v2 whitepaper)\n",
    "x, y, D, A = symbols(\"x y D A\")\n",
    "k = A*x*y/(D/2)**2\n",
    "f = x*y + k*(x+y)*D - (D/2)**2 - k*D**2\n",
    "\n",
    "display(f)\n",
    "\n",
    "df_dD = diff(f, D)\n",
    "df_dy = diff(f, y)\n",
    "\n",
    "print(\"df / dD\")\n",
    "print(df_dD)\n",
    "print(\"df / dy\")\n",
    "print(df_dy)\n",
    "\n",
    "# Newton's method for y\n",
    "y_n = y - f / df_dy\n",
    "\n",
    "# get_y - StableSwap code\n",
    "# x = token in, y = token out\n",
    "n = 2\n",
    "a = A*n**n\n",
    "s = x\n",
    "p = x\n",
    "c = D**(n + 1) / (n**n * p * a)\n",
    "b = s + D / a\n",
    "y_code = (y*y + c) / (2*y + b - D)\n",
    "\n",
    "display(simplify(y_n - y_code))"
   ]
  },
  {
   "cell_type": "code",
   "execution_count": 25,
   "id": "b316a96b-8187-4d63-a885-3d65f36d46ac",
   "metadata": {},
   "outputs": [
    {
     "data": {
      "image/png": "[encoded data removed]",
      "text/latex": [
       "$\\displaystyle 4 A D - 4 A \\left(x + y\\right) + \\frac{D^{3}}{4 x y} - D$"
      ],
      "text/plain": [
       "                         3     \n",
       "                        D      \n",
       "4⋅A⋅D - 4⋅A⋅(x + y) + ───── - D\n",
       "                      4⋅x⋅y    "
      ]
     },
     "metadata": {},
     "output_type": "display_data"
    },
    {
     "data": {
      "image/png": "[encoded data removed]",
      "text/latex": [
       "$\\displaystyle 0$"
      ],
      "text/plain": [
       "0"
      ]
     },
     "metadata": {},
     "output_type": "display_data"
    }
   ],
   "source": [
    "# Equations from v1 whitepaper\n",
    "x, y, D, A = symbols(\"x y D A\")\n",
    "n = 2\n",
    "f = A*D*n**n + D**(n+1) / (n**n * x*y) - A*n**n * (x + y) - D\n",
    "\n",
    "display(f)\n",
    "\n",
    "df_dD = diff(f, D)\n",
    "\n",
    "# Newton's method for D\n",
    "d_n = D - f / df_dD\n",
    "\n",
    "# get_D - StableSwap code\n",
    "a = A*n**n\n",
    "s = x + y\n",
    "p = D**(n + 1) / (n**n * x * y)\n",
    "d_code = (a*s + n*p)*D / ((a - 1)*D + (n + 1)*p)\n",
    "\n",
    "# Compare d_n with d_code\n",
    "display(simplify(d_n - d_code))"
   ]
  },
  {
   "cell_type": "code",
   "execution_count": null,
   "id": "1458b5ed-4942-4f57-bda0-695dc2b2450c",
   "metadata": {},
   "outputs": [],
   "source": [
    "N_COINS = 3\n",
    "\n",
    "LENDING_PRECISION = 10 ** 18\n",
    "# 1, 1e12, 1e12\n",
    "PRECISION_MUL = [1, 1000000000000, 1000000000000]\n",
    "# 1e18, 1e30, 1e30\n",
    "RATES = [1000000000000000000, 1000000000000000000000000000000, 1000000000000000000000000000000]\n",
    "\n",
    "# DAI, USDC, USDT\n",
    "balances = [1e18, 1e6, 1e6]\n",
    "\n",
    "# Normalizes coin balances to 1e18\n",
    "def xp():\n",
    "    result = [r for r in RATES]\n",
    "    for i in range(N_COINS):\n",
    "        result[i] = result[i] * balances[i] / LENDING_PRECISION\n",
    "    return result\n",
    "\n",
    "xp()"
   ]
  }
 ],
 "metadata": {
  "kernelspec": {
   "display_name": "Python 3 (ipykernel)",
   "language": "python",
   "name": "python3"
  },
  "language_info": {
   "codemirror_mode": {
    "name": "ipython",
    "version": 3
   },
   "file_extension": ".py",
   "mimetype": "text/x-python",
   "name": "python",
   "nbconvert_exporter": "python",
   "pygments_lexer": "ipython3",
   "version": "3.10.11"
  }
 },
 "nbformat": 4,
 "nbformat_minor": 5
}
